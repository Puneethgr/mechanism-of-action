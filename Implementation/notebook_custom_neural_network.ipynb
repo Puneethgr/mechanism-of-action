{
 "cells": [
  {
   "cell_type": "code",
   "execution_count": 1,
   "metadata": {
    "execution": {
     "iopub.execute_input": "2021-07-14T07:54:46.710395Z",
     "iopub.status.busy": "2021-07-14T07:54:46.709912Z",
     "iopub.status.idle": "2021-07-14T07:54:49.059551Z",
     "shell.execute_reply": "2021-07-14T07:54:49.058337Z",
     "shell.execute_reply.started": "2021-07-14T07:54:46.710268Z"
    }
   },
   "outputs": [],
   "source": [
    "import numpy as np # linear algebra\n",
    "import pandas as pd # data processing, CSV file I/O (e.g. pd.read_csv)\n",
    "import keras\n",
    "\n",
    "import tensorflow as tf\n",
    "from tensorflow import keras\n",
    "from tensorflow.keras import layers\n",
    "\n",
    "from keras.layers import Dense, Activation, Convolution2D, MaxPooling2D, Dropout, Flatten\n",
    "from keras.layers.normalization import BatchNormalization\n",
    "from keras.models import Sequential, save_model\n",
    "from keras.utils import np_utils"
   ]
  },
  {
   "cell_type": "code",
   "execution_count": 2,
   "metadata": {
    "execution": {
     "iopub.execute_input": "2021-07-14T07:54:49.061732Z",
     "iopub.status.busy": "2021-07-14T07:54:49.061343Z",
     "iopub.status.idle": "2021-07-14T07:54:49.070632Z",
     "shell.execute_reply": "2021-07-14T07:54:49.069630Z",
     "shell.execute_reply.started": "2021-07-14T07:54:49.061699Z"
    }
   },
   "outputs": [],
   "source": [
    "import os\n",
    "import random\n",
    "from keras import backend as K\n",
    "\n",
    "#Set seed, so that every time you run, you will get the same (reproducible) results.\n",
    "seed_value = 0\n",
    "os.environ['PYTHONHASHSEED']=str(seed_value)\n",
    "random.seed(seed_value)\n",
    "np.random.seed(seed_value)\n",
    "tf.compat.v1.set_random_seed(seed_value)\n",
    "\n",
    "session_conf = tf.compat.v1.ConfigProto(intra_op_parallelism_threads=1, inter_op_parallelism_threads=1)\n",
    "sess = tf.compat.v1.Session(graph=tf.compat.v1.get_default_graph(), config=session_conf)\n",
    "tf.compat.v1.keras.backend.set_session(sess)"
   ]
  },
  {
   "cell_type": "code",
   "execution_count": 3,
   "metadata": {
    "_cell_guid": "79c7e3d0-c299-4dcb-8224-4455121ee9b0",
    "_uuid": "d629ff2d2480ee46fbb7e2d37f6b5fab8052498a",
    "execution": {
     "iopub.execute_input": "2021-07-14T07:54:49.073608Z",
     "iopub.status.busy": "2021-07-14T07:54:49.073143Z",
     "iopub.status.idle": "2021-07-14T07:54:55.953525Z",
     "shell.execute_reply": "2021-07-14T07:54:55.952361Z",
     "shell.execute_reply.started": "2021-07-14T07:54:49.073563Z"
    }
   },
   "outputs": [],
   "source": [
    "# Dataset is taken from https://www.kaggle.com/c/lish-moa/data\n",
    "train_features = pd.read_csv('../input/lish-moa/train_features.csv')\n",
    "train_targets_scored = pd.read_csv('../input/lish-moa/train_targets_scored.csv')\n",
    "train_targets_nonscored = pd.read_csv('../input/lish-moa/train_targets_nonscored.csv')\n",
    "\n",
    "test_features = pd.read_csv('../input/lish-moa/test_features.csv')\n",
    "sample_submission = pd.read_csv('../input/lish-moa/sample_submission.csv')"
   ]
  },
  {
   "cell_type": "code",
   "execution_count": 4,
   "metadata": {
    "execution": {
     "iopub.execute_input": "2021-07-14T07:54:55.955460Z",
     "iopub.status.busy": "2021-07-14T07:54:55.955102Z",
     "iopub.status.idle": "2021-07-14T07:54:56.031974Z",
     "shell.execute_reply": "2021-07-14T07:54:56.030893Z",
     "shell.execute_reply.started": "2021-07-14T07:54:55.955428Z"
    }
   },
   "outputs": [],
   "source": [
    "train_features.drop(['sig_id'], axis='columns', inplace=True)"
   ]
  },
  {
   "cell_type": "code",
   "execution_count": 5,
   "metadata": {
    "execution": {
     "iopub.execute_input": "2021-07-14T07:54:56.033935Z",
     "iopub.status.busy": "2021-07-14T07:54:56.033596Z",
     "iopub.status.idle": "2021-07-14T07:54:56.051566Z",
     "shell.execute_reply": "2021-07-14T07:54:56.050672Z",
     "shell.execute_reply.started": "2021-07-14T07:54:56.033901Z"
    }
   },
   "outputs": [],
   "source": [
    "train_features.loc[:, 'cp_type'] = train_features.loc[:, 'cp_type'].map({'trt_cp': 0, 'ctl_vehicle': 1})\n",
    "train_features.loc[:, 'cp_dose'] = train_features.loc[:, 'cp_dose'].map({'D1': 0, 'D2': 1})"
   ]
  },
  {
   "cell_type": "code",
   "execution_count": 6,
   "metadata": {
    "execution": {
     "iopub.execute_input": "2021-07-14T07:54:56.053858Z",
     "iopub.status.busy": "2021-07-14T07:54:56.053113Z",
     "iopub.status.idle": "2021-07-14T07:54:56.072460Z",
     "shell.execute_reply": "2021-07-14T07:54:56.071436Z",
     "shell.execute_reply.started": "2021-07-14T07:54:56.053804Z"
    }
   },
   "outputs": [],
   "source": [
    "test_features.loc[:, 'cp_type'] = test_features.loc[:, 'cp_type'].map({'trt_cp': 0, 'ctl_vehicle': 1})\n",
    "test_features.loc[:, 'cp_dose'] = test_features.loc[:, 'cp_dose'].map({'D1': 0, 'D2': 1})"
   ]
  },
  {
   "cell_type": "code",
   "execution_count": 7,
   "metadata": {
    "execution": {
     "iopub.execute_input": "2021-07-14T07:54:56.074877Z",
     "iopub.status.busy": "2021-07-14T07:54:56.074207Z",
     "iopub.status.idle": "2021-07-14T07:54:56.114353Z",
     "shell.execute_reply": "2021-07-14T07:54:56.112893Z",
     "shell.execute_reply.started": "2021-07-14T07:54:56.074818Z"
    }
   },
   "outputs": [],
   "source": [
    "train_targets_scored.drop(['sig_id'], axis='columns', inplace=True)"
   ]
  },
  {
   "cell_type": "code",
   "execution_count": 8,
   "metadata": {
    "execution": {
     "iopub.execute_input": "2021-07-14T07:54:56.118853Z",
     "iopub.status.busy": "2021-07-14T07:54:56.118472Z",
     "iopub.status.idle": "2021-07-14T07:54:56.198011Z",
     "shell.execute_reply": "2021-07-14T07:54:56.196175Z",
     "shell.execute_reply.started": "2021-07-14T07:54:56.118813Z"
    }
   },
   "outputs": [],
   "source": [
    "train_features_values = train_features.values\n",
    "train_targets_values = train_targets_scored.values"
   ]
  },
  {
   "cell_type": "code",
   "execution_count": 9,
   "metadata": {
    "execution": {
     "iopub.execute_input": "2021-07-14T07:54:56.200590Z",
     "iopub.status.busy": "2021-07-14T07:54:56.200158Z",
     "iopub.status.idle": "2021-07-14T07:56:29.800674Z",
     "shell.execute_reply": "2021-07-14T07:56:29.799641Z",
     "shell.execute_reply.started": "2021-07-14T07:54:56.200553Z"
    }
   },
   "outputs": [
    {
     "name": "stdout",
     "output_type": "stream",
     "text": [
      "Epoch 1/75\n",
      "239/239 [==============================] - 2s 5ms/step - loss: 0.5785 - accuracy: 0.0116\n",
      "Epoch 2/75\n",
      "239/239 [==============================] - 1s 5ms/step - loss: 0.0454 - accuracy: 0.0183\n",
      "Epoch 3/75\n",
      "239/239 [==============================] - 1s 5ms/step - loss: 0.0242 - accuracy: 0.0271\n",
      "Epoch 4/75\n",
      "239/239 [==============================] - 1s 5ms/step - loss: 0.0222 - accuracy: 0.0385\n",
      "Epoch 5/75\n",
      "239/239 [==============================] - 1s 5ms/step - loss: 0.0211 - accuracy: 0.0390\n",
      "Epoch 6/75\n",
      "239/239 [==============================] - 1s 5ms/step - loss: 0.0208 - accuracy: 0.0434\n",
      "Epoch 7/75\n",
      "239/239 [==============================] - 1s 5ms/step - loss: 0.0201 - accuracy: 0.0462\n",
      "Epoch 8/75\n",
      "239/239 [==============================] - 1s 5ms/step - loss: 0.0199 - accuracy: 0.0490\n",
      "Epoch 9/75\n",
      "239/239 [==============================] - 1s 5ms/step - loss: 0.0200 - accuracy: 0.0489\n",
      "Epoch 10/75\n",
      "239/239 [==============================] - 1s 5ms/step - loss: 0.0197 - accuracy: 0.0537\n",
      "Epoch 11/75\n",
      "239/239 [==============================] - 1s 5ms/step - loss: 0.0195 - accuracy: 0.0587\n",
      "Epoch 12/75\n",
      "239/239 [==============================] - 1s 5ms/step - loss: 0.0193 - accuracy: 0.0578\n",
      "Epoch 13/75\n",
      "239/239 [==============================] - 1s 5ms/step - loss: 0.0190 - accuracy: 0.0574\n",
      "Epoch 14/75\n",
      "239/239 [==============================] - 1s 5ms/step - loss: 0.0187 - accuracy: 0.0618\n",
      "Epoch 15/75\n",
      "239/239 [==============================] - 1s 5ms/step - loss: 0.0187 - accuracy: 0.0609\n",
      "Epoch 16/75\n",
      "239/239 [==============================] - 1s 5ms/step - loss: 0.0184 - accuracy: 0.0656\n",
      "Epoch 17/75\n",
      "239/239 [==============================] - 1s 5ms/step - loss: 0.0184 - accuracy: 0.0684\n",
      "Epoch 18/75\n",
      "239/239 [==============================] - 1s 5ms/step - loss: 0.0182 - accuracy: 0.0740\n",
      "Epoch 19/75\n",
      "239/239 [==============================] - 1s 5ms/step - loss: 0.0180 - accuracy: 0.0771\n",
      "Epoch 20/75\n",
      "239/239 [==============================] - 1s 5ms/step - loss: 0.0178 - accuracy: 0.0804\n",
      "Epoch 21/75\n",
      "239/239 [==============================] - 1s 5ms/step - loss: 0.0177 - accuracy: 0.0790\n",
      "Epoch 22/75\n",
      "239/239 [==============================] - 1s 5ms/step - loss: 0.0176 - accuracy: 0.0823\n",
      "Epoch 23/75\n",
      "239/239 [==============================] - 1s 5ms/step - loss: 0.0174 - accuracy: 0.0856\n",
      "Epoch 24/75\n",
      "239/239 [==============================] - 1s 5ms/step - loss: 0.0173 - accuracy: 0.0820\n",
      "Epoch 25/75\n",
      "239/239 [==============================] - 1s 5ms/step - loss: 0.0171 - accuracy: 0.0846\n",
      "Epoch 26/75\n",
      "239/239 [==============================] - 1s 5ms/step - loss: 0.0170 - accuracy: 0.0878\n",
      "Epoch 27/75\n",
      "239/239 [==============================] - 1s 5ms/step - loss: 0.0169 - accuracy: 0.0906\n",
      "Epoch 28/75\n",
      "239/239 [==============================] - 1s 5ms/step - loss: 0.0168 - accuracy: 0.0911\n",
      "Epoch 29/75\n",
      "239/239 [==============================] - 1s 5ms/step - loss: 0.0169 - accuracy: 0.0910\n",
      "Epoch 30/75\n",
      "239/239 [==============================] - 1s 5ms/step - loss: 0.0167 - accuracy: 0.0942\n",
      "Epoch 31/75\n",
      "239/239 [==============================] - 1s 5ms/step - loss: 0.0170 - accuracy: 0.0920\n",
      "Epoch 32/75\n",
      "239/239 [==============================] - 1s 5ms/step - loss: 0.0166 - accuracy: 0.0969\n",
      "Epoch 33/75\n",
      "239/239 [==============================] - 1s 5ms/step - loss: 0.0166 - accuracy: 0.0950\n",
      "Epoch 34/75\n",
      "239/239 [==============================] - 1s 5ms/step - loss: 0.0166 - accuracy: 0.0974\n",
      "Epoch 35/75\n",
      "239/239 [==============================] - 1s 5ms/step - loss: 0.0165 - accuracy: 0.0970\n",
      "Epoch 36/75\n",
      "239/239 [==============================] - 1s 5ms/step - loss: 0.0165 - accuracy: 0.0953\n",
      "Epoch 37/75\n",
      "239/239 [==============================] - 1s 5ms/step - loss: 0.0165 - accuracy: 0.0970\n",
      "Epoch 38/75\n",
      "239/239 [==============================] - 1s 5ms/step - loss: 0.0163 - accuracy: 0.0968\n",
      "Epoch 39/75\n",
      "239/239 [==============================] - 1s 5ms/step - loss: 0.0165 - accuracy: 0.0986\n",
      "Epoch 40/75\n",
      "239/239 [==============================] - 1s 6ms/step - loss: 0.0162 - accuracy: 0.1010\n",
      "Epoch 41/75\n",
      "239/239 [==============================] - 1s 5ms/step - loss: 0.0163 - accuracy: 0.0986\n",
      "Epoch 42/75\n",
      "239/239 [==============================] - 1s 5ms/step - loss: 0.0163 - accuracy: 0.1027\n",
      "Epoch 43/75\n",
      "239/239 [==============================] - 1s 5ms/step - loss: 0.0162 - accuracy: 0.1053\n",
      "Epoch 44/75\n",
      "239/239 [==============================] - 1s 5ms/step - loss: 0.0163 - accuracy: 0.1050\n",
      "Epoch 45/75\n",
      "239/239 [==============================] - 1s 5ms/step - loss: 0.0159 - accuracy: 0.1043\n",
      "Epoch 46/75\n",
      "239/239 [==============================] - 1s 5ms/step - loss: 0.0160 - accuracy: 0.1018\n",
      "Epoch 47/75\n",
      "239/239 [==============================] - 1s 5ms/step - loss: 0.0160 - accuracy: 0.1057\n",
      "Epoch 48/75\n",
      "239/239 [==============================] - 1s 5ms/step - loss: 0.0161 - accuracy: 0.1026\n",
      "Epoch 49/75\n",
      "239/239 [==============================] - 1s 5ms/step - loss: 0.0160 - accuracy: 0.1058\n",
      "Epoch 50/75\n",
      "239/239 [==============================] - 1s 5ms/step - loss: 0.0157 - accuracy: 0.1042\n",
      "Epoch 51/75\n",
      "239/239 [==============================] - 1s 5ms/step - loss: 0.0158 - accuracy: 0.1071\n",
      "Epoch 52/75\n",
      "239/239 [==============================] - 1s 5ms/step - loss: 0.0160 - accuracy: 0.1074\n",
      "Epoch 53/75\n",
      "239/239 [==============================] - 1s 5ms/step - loss: 0.0158 - accuracy: 0.1075\n",
      "Epoch 54/75\n",
      "239/239 [==============================] - 1s 5ms/step - loss: 0.0158 - accuracy: 0.1069\n",
      "Epoch 55/75\n",
      "239/239 [==============================] - 1s 5ms/step - loss: 0.0159 - accuracy: 0.1109\n",
      "Epoch 56/75\n",
      "239/239 [==============================] - 1s 5ms/step - loss: 0.0157 - accuracy: 0.1074\n",
      "Epoch 57/75\n",
      "239/239 [==============================] - 1s 6ms/step - loss: 0.0157 - accuracy: 0.1099\n",
      "Epoch 58/75\n",
      "239/239 [==============================] - 1s 5ms/step - loss: 0.0158 - accuracy: 0.1115\n",
      "Epoch 59/75\n",
      "239/239 [==============================] - 1s 5ms/step - loss: 0.0156 - accuracy: 0.1098\n",
      "Epoch 60/75\n",
      "239/239 [==============================] - 1s 5ms/step - loss: 0.0158 - accuracy: 0.1111\n",
      "Epoch 61/75\n",
      "239/239 [==============================] - 1s 5ms/step - loss: 0.0156 - accuracy: 0.1090\n",
      "Epoch 62/75\n",
      "239/239 [==============================] - 1s 5ms/step - loss: 0.0157 - accuracy: 0.1100\n",
      "Epoch 63/75\n",
      "239/239 [==============================] - 1s 5ms/step - loss: 0.0155 - accuracy: 0.1160\n",
      "Epoch 64/75\n",
      "239/239 [==============================] - 1s 5ms/step - loss: 0.0155 - accuracy: 0.1103\n",
      "Epoch 65/75\n",
      "239/239 [==============================] - 1s 5ms/step - loss: 0.0155 - accuracy: 0.1131\n",
      "Epoch 66/75\n",
      "239/239 [==============================] - 1s 5ms/step - loss: 0.0155 - accuracy: 0.1109\n",
      "Epoch 67/75\n",
      "239/239 [==============================] - 1s 5ms/step - loss: 0.0155 - accuracy: 0.1134\n",
      "Epoch 68/75\n",
      "239/239 [==============================] - 1s 5ms/step - loss: 0.0154 - accuracy: 0.1163\n",
      "Epoch 69/75\n",
      "239/239 [==============================] - 1s 5ms/step - loss: 0.0156 - accuracy: 0.1130\n",
      "Epoch 70/75\n",
      "239/239 [==============================] - 1s 5ms/step - loss: 0.0153 - accuracy: 0.1135\n",
      "Epoch 71/75\n",
      "239/239 [==============================] - 1s 5ms/step - loss: 0.0154 - accuracy: 0.1148\n",
      "Epoch 72/75\n",
      "239/239 [==============================] - 1s 5ms/step - loss: 0.0153 - accuracy: 0.1165\n",
      "Epoch 73/75\n",
      "239/239 [==============================] - 1s 5ms/step - loss: 0.0154 - accuracy: 0.1209\n",
      "Epoch 74/75\n",
      "239/239 [==============================] - 1s 5ms/step - loss: 0.0154 - accuracy: 0.1173\n",
      "Epoch 75/75\n",
      "239/239 [==============================] - 1s 5ms/step - loss: 0.0154 - accuracy: 0.1140\n"
     ]
    },
    {
     "data": {
      "text/plain": [
       "<tensorflow.python.keras.callbacks.History at 0x7f520bf036d0>"
      ]
     },
     "execution_count": 9,
     "metadata": {},
     "output_type": "execute_result"
    }
   ],
   "source": [
    "input_dimension = train_features_values.shape[1]\n",
    "output_dimension = train_targets_values.shape[1]\n",
    "\n",
    "input_units = input_dimension\n",
    "denselayer1_units = 128\n",
    "denselayer2_units = 64\n",
    "output_units = output_dimension\n",
    "\n",
    "inputs = keras.Input(shape=input_units)\n",
    "dense_layer1 = layers.Dense(denselayer1_units, activation=\"relu\", name = \"dense_layer1\")(inputs)\n",
    "dropout_layer1 = layers.Dropout(0.5, name = \"dropout_layer1\")(dense_layer1)\n",
    "batch_normalization_layer1 = layers.BatchNormalization(name = \"batch_normalization_layer1\")(dropout_layer1)\n",
    "\n",
    "dense_layer2 = layers.Dense(denselayer2_units, activation=\"relu\", name = \"dense_layer2\")(batch_normalization_layer1)\n",
    "dropout_layer2 = layers.Dropout(0.5, name = \"dropout_layer2\")(dense_layer2)\n",
    "batch_normalization_layer2 = layers.BatchNormalization(name = \"batch_normalization_layer2\")(dropout_layer2)\n",
    "\n",
    "outputs = layers.Dense(output_units, activation=\"sigmoid\", name = \"Output_Layer\")(batch_normalization_layer2)\n",
    "\n",
    "model = keras.Model(inputs=inputs, outputs=outputs, name=\"moa_model\")\n",
    "\n",
    "model.compile(\n",
    "    loss='binary_crossentropy',\n",
    "    optimizer='adam',\n",
    "    metrics=[\"accuracy\"],\n",
    ")\n",
    "\n",
    "model.fit(train_features, train_targets_values, batch_size=100, epochs=75)"
   ]
  },
  {
   "cell_type": "code",
   "execution_count": 10,
   "metadata": {
    "execution": {
     "iopub.execute_input": "2021-07-14T07:56:29.802473Z",
     "iopub.status.busy": "2021-07-14T07:56:29.801930Z",
     "iopub.status.idle": "2021-07-14T07:56:30.228566Z",
     "shell.execute_reply": "2021-07-14T07:56:30.227366Z",
     "shell.execute_reply.started": "2021-07-14T07:56:29.802440Z"
    }
   },
   "outputs": [
    {
     "name": "stdout",
     "output_type": "stream",
     "text": [
      "Model: \"moa_model\"\n",
      "_________________________________________________________________\n",
      "Layer (type)                 Output Shape              Param #   \n",
      "=================================================================\n",
      "input_1 (InputLayer)         [(None, 875)]             0         \n",
      "_________________________________________________________________\n",
      "dense_layer1 (Dense)         (None, 128)               112128    \n",
      "_________________________________________________________________\n",
      "dropout_layer1 (Dropout)     (None, 128)               0         \n",
      "_________________________________________________________________\n",
      "batch_normalization_layer1 ( (None, 128)               512       \n",
      "_________________________________________________________________\n",
      "dense_layer2 (Dense)         (None, 64)                8256      \n",
      "_________________________________________________________________\n",
      "dropout_layer2 (Dropout)     (None, 64)                0         \n",
      "_________________________________________________________________\n",
      "batch_normalization_layer2 ( (None, 64)                256       \n",
      "_________________________________________________________________\n",
      "Output_Layer (Dense)         (None, 206)               13390     \n",
      "=================================================================\n",
      "Total params: 134,542\n",
      "Trainable params: 134,158\n",
      "Non-trainable params: 384\n",
      "_________________________________________________________________\n"
     ]
    },
    {
     "data": {
      "image/png": "[encoded data removed]",
      "text/plain": [
       "<IPython.core.display.Image object>"
      ]
     },
     "execution_count": 10,
     "metadata": {},
     "output_type": "execute_result"
    }
   ],
   "source": [
    "model.summary()\n",
    "keras.utils.plot_model(model, show_shapes = True)"
   ]
  },
  {
   "cell_type": "code",
   "execution_count": 11,
   "metadata": {
    "execution": {
     "iopub.execute_input": "2021-07-14T07:56:30.230711Z",
     "iopub.status.busy": "2021-07-14T07:56:30.230400Z",
     "iopub.status.idle": "2021-07-14T07:56:30.275398Z",
     "shell.execute_reply": "2021-07-14T07:56:30.274349Z",
     "shell.execute_reply.started": "2021-07-14T07:56:30.230682Z"
    }
   },
   "outputs": [],
   "source": [
    "# Save the model (Serialization)\n",
    "model.save('neural_network_model.h5', save_format='h5')"
   ]
  },
  {
   "cell_type": "code",
   "execution_count": 12,
   "metadata": {
    "execution": {
     "iopub.execute_input": "2021-07-14T07:56:30.277425Z",
     "iopub.status.busy": "2021-07-14T07:56:30.276971Z",
     "iopub.status.idle": "2021-07-14T07:56:30.282359Z",
     "shell.execute_reply": "2021-07-14T07:56:30.281341Z",
     "shell.execute_reply.started": "2021-07-14T07:56:30.277378Z"
    }
   },
   "outputs": [],
   "source": [
    "column_names = sample_submission.columns"
   ]
  },
  {
   "cell_type": "code",
   "execution_count": 13,
   "metadata": {
    "execution": {
     "iopub.execute_input": "2021-07-14T07:56:30.284013Z",
     "iopub.status.busy": "2021-07-14T07:56:30.283704Z",
     "iopub.status.idle": "2021-07-14T07:56:30.313270Z",
     "shell.execute_reply": "2021-07-14T07:56:30.311720Z",
     "shell.execute_reply.started": "2021-07-14T07:56:30.283983Z"
    }
   },
   "outputs": [],
   "source": [
    "test_id = x_test = test_features['sig_id'].values\n",
    "x_test = test_features.drop(['sig_id'], axis='columns', inplace=False)"
   ]
  },
  {
   "cell_type": "code",
   "execution_count": 14,
   "metadata": {
    "execution": {
     "iopub.execute_input": "2021-07-14T07:56:30.315053Z",
     "iopub.status.busy": "2021-07-14T07:56:30.314710Z",
     "iopub.status.idle": "2021-07-14T07:56:30.319633Z",
     "shell.execute_reply": "2021-07-14T07:56:30.318637Z",
     "shell.execute_reply.started": "2021-07-14T07:56:30.315022Z"
    }
   },
   "outputs": [],
   "source": [
    "df = pd.DataFrame(x_test)"
   ]
  },
  {
   "cell_type": "code",
   "execution_count": 15,
   "metadata": {
    "execution": {
     "iopub.execute_input": "2021-07-14T07:56:30.321447Z",
     "iopub.status.busy": "2021-07-14T07:56:30.321077Z",
     "iopub.status.idle": "2021-07-14T07:56:30.673528Z",
     "shell.execute_reply": "2021-07-14T07:56:30.672713Z",
     "shell.execute_reply.started": "2021-07-14T07:56:30.321405Z"
    }
   },
   "outputs": [],
   "source": [
    "y_pred=model.predict(x_test)"
   ]
  },
  {
   "cell_type": "code",
   "execution_count": 16,
   "metadata": {
    "execution": {
     "iopub.execute_input": "2021-07-14T07:56:30.675814Z",
     "iopub.status.busy": "2021-07-14T07:56:30.675079Z",
     "iopub.status.idle": "2021-07-14T07:56:30.685685Z",
     "shell.execute_reply": "2021-07-14T07:56:30.684564Z",
     "shell.execute_reply.started": "2021-07-14T07:56:30.675769Z"
    }
   },
   "outputs": [],
   "source": [
    "id_list=[]\n",
    "y_pred_list=[]\n",
    "for i in range(len(y_pred)):\n",
    "    id_list.append(test_id[i])\n",
    "    y_pred_list.append(y_pred[i])"
   ]
  },
  {
   "cell_type": "code",
   "execution_count": 17,
   "metadata": {
    "execution": {
     "iopub.execute_input": "2021-07-14T07:56:30.687525Z",
     "iopub.status.busy": "2021-07-14T07:56:30.687077Z",
     "iopub.status.idle": "2021-07-14T07:56:30.706062Z",
     "shell.execute_reply": "2021-07-14T07:56:30.704917Z",
     "shell.execute_reply.started": "2021-07-14T07:56:30.687484Z"
    }
   },
   "outputs": [],
   "source": [
    "dictionary={}\n",
    "for column in column_names:\n",
    "    dictionary[column] = list()"
   ]
  },
  {
   "cell_type": "code",
   "execution_count": 18,
   "metadata": {
    "execution": {
     "iopub.execute_input": "2021-07-14T07:56:30.708202Z",
     "iopub.status.busy": "2021-07-14T07:56:30.707781Z",
     "iopub.status.idle": "2021-07-14T07:56:30.719323Z",
     "shell.execute_reply": "2021-07-14T07:56:30.718123Z",
     "shell.execute_reply.started": "2021-07-14T07:56:30.708156Z"
    }
   },
   "outputs": [],
   "source": [
    "column_names = list(column_names)\n",
    "column_names.remove('sig_id')"
   ]
  },
  {
   "cell_type": "code",
   "execution_count": 19,
   "metadata": {
    "execution": {
     "iopub.execute_input": "2021-07-14T07:56:30.720994Z",
     "iopub.status.busy": "2021-07-14T07:56:30.720561Z",
     "iopub.status.idle": "2021-07-14T07:56:31.453449Z",
     "shell.execute_reply": "2021-07-14T07:56:31.452634Z",
     "shell.execute_reply.started": "2021-07-14T07:56:30.720966Z"
    }
   },
   "outputs": [],
   "source": [
    "dictionary['sig_id'] = test_id\n",
    "for i in range(len(y_pred)):\n",
    "    for j in range(len(column_names)):\n",
    "        dictionary[column_names[j]].append(y_pred[i][j])"
   ]
  },
  {
   "cell_type": "code",
   "execution_count": 20,
   "metadata": {
    "execution": {
     "iopub.execute_input": "2021-07-14T07:56:31.454831Z",
     "iopub.status.busy": "2021-07-14T07:56:31.454442Z",
     "iopub.status.idle": "2021-07-14T07:56:31.793571Z",
     "shell.execute_reply": "2021-07-14T07:56:31.792724Z",
     "shell.execute_reply.started": "2021-07-14T07:56:31.454803Z"
    }
   },
   "outputs": [],
   "source": [
    "df=pd.DataFrame(dictionary)"
   ]
  },
  {
   "cell_type": "code",
   "execution_count": 21,
   "metadata": {
    "execution": {
     "iopub.execute_input": "2021-07-14T07:56:31.795064Z",
     "iopub.status.busy": "2021-07-14T07:56:31.794615Z",
     "iopub.status.idle": "2021-07-14T07:56:33.756892Z",
     "shell.execute_reply": "2021-07-14T07:56:33.755656Z",
     "shell.execute_reply.started": "2021-07-14T07:56:31.795033Z"
    }
   },
   "outputs": [],
   "source": [
    "df.to_csv('./submission.csv',index=False)"
   ]
  }
 ],
 "metadata": {
  "kernelspec": {
   "display_name": "Python 3",
   "language": "python",
   "name": "python3"
  },
  "language_info": {
   "codemirror_mode": {
    "name": "ipython",
    "version": 3
   },
   "file_extension": ".py",
   "mimetype": "text/x-python",
   "name": "python",
   "nbconvert_exporter": "python",
   "pygments_lexer": "ipython3",
   "version": "3.7.9"
  }
 },
 "nbformat": 4,
 "nbformat_minor": 4
}
